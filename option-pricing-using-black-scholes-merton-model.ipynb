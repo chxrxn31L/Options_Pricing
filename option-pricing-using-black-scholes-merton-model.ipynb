{
 "cells": [
  {
   "cell_type": "markdown",
   "metadata": {},
   "source": [
    "Plan :\n",
    "1. Option pricing using BSM model\n",
    "2. Random Walk\n",
    "3. Brownian Motion\n"
   ]
  },
  {
   "cell_type": "code",
   "execution_count": null,
   "metadata": {
    "_cell_guid": "b1076dfc-b9ad-4769-8c92-a6c4dae69d19",
    "_uuid": "8f2839f25d086af736a60e9eeb907d3b93b6e0e5",
    "execution": {
     "iopub.execute_input": "2022-09-20T23:50:49.45995Z",
     "iopub.status.busy": "2022-09-20T23:50:49.458806Z",
     "iopub.status.idle": "2022-09-20T23:50:50.291322Z",
     "shell.execute_reply": "2022-09-20T23:50:50.29015Z",
     "shell.execute_reply.started": "2022-09-20T23:50:49.459836Z"
    },
    "trusted": true
   },
   "outputs": [],
   "source": [
    "\n",
    "\n",
    "import numpy as np\n",
    "import pandas as pd \n",
    "from scipy.stats import norm\n",
    "import matplotlib.pyplot as plt\n",
    "\n",
    "\n",
    "import os\n",
    "for dirname, _, filenames in os.walk('/kaggle/input'):\n",
    "    for filename in filenames:\n",
    "        print(os.path.join(dirname, filename))\n"
   ]
  },
  {
   "cell_type": "code",
   "execution_count": null,
   "metadata": {
    "execution": {
     "iopub.execute_input": "2022-09-20T23:50:50.293414Z",
     "iopub.status.busy": "2022-09-20T23:50:50.293078Z",
     "iopub.status.idle": "2022-09-20T23:50:50.304966Z",
     "shell.execute_reply": "2022-09-20T23:50:50.303501Z",
     "shell.execute_reply.started": "2022-09-20T23:50:50.293384Z"
    },
    "trusted": true
   },
   "outputs": [],
   "source": [
    "# BSM Parameters\n",
    "r = .04 #interest free rate\n",
    "S = 20 #stock price\n",
    "K = 30 #strike price\n",
    "T = 40/365 #time in years\n",
    "sigma = .40 #voltatility \n",
    "\n",
    "def blackscholes(r,S,K,T,sigma):\n",
    "    '''Calculate option (Call or Put) pricing based on given parameters'''\n",
    "    d1 = (np.log(S/K) + (r + sigma**2/2)*T)/(sigma*np.sqrt(T))\n",
    "    d2 = d1 - sigma*np.sqrt(T)\n",
    "    try:        \n",
    "        call = S*norm.cdf(d1, 0, 1) - K*np.exp(-r*T)*norm.cdf(d2, 0, 1)\n",
    "        print(f'Call price is : {call}')\n",
    "        put = -(S*norm.cdf(-d1, 0, 1) - K*np.exp(-r*T)*norm.cdf(-d2, 0, 1))\n",
    "        print(f'Put price is : {put}')\n",
    "        return call, put        \n",
    "    except:\n",
    "        print('Check all the parameters!!!')\n",
    "        return None, None\n",
    "    "
   ]
  },
  {
   "cell_type": "code",
   "execution_count": null,
   "metadata": {
    "execution": {
     "iopub.execute_input": "2022-09-20T23:50:50.306569Z",
     "iopub.status.busy": "2022-09-20T23:50:50.306189Z",
     "iopub.status.idle": "2022-09-20T23:50:50.326514Z",
     "shell.execute_reply": "2022-09-20T23:50:50.325552Z",
     "shell.execute_reply.started": "2022-09-20T23:50:50.306523Z"
    },
    "trusted": true
   },
   "outputs": [],
   "source": [
    "blackscholes(r,S,K,T,sigma)"
   ]
  },
  {
   "cell_type": "markdown",
   "metadata": {},
   "source": [
    "# Random walk\n",
    "1. Toss a coin\n",
    "2. If H then get 1 dollar else lose 1 (H and T would arise with equal probability)\n",
    "3. The gain (which could be negative) that you will be making is in fact a Random walk.\n",
    "\n",
    "Above experiment was performed at discrete time steps, say at each second we tossed the coin. If we start dividing the time step to infinitesimal we will get Brownian motion."
   ]
  },
  {
   "cell_type": "code",
   "execution_count": null,
   "metadata": {
    "execution": {
     "iopub.execute_input": "2022-09-20T23:50:50.329102Z",
     "iopub.status.busy": "2022-09-20T23:50:50.328789Z",
     "iopub.status.idle": "2022-09-20T23:50:50.776101Z",
     "shell.execute_reply": "2022-09-20T23:50:50.775175Z",
     "shell.execute_reply.started": "2022-09-20T23:50:50.329073Z"
    },
    "trusted": true
   },
   "outputs": [],
   "source": [
    "def random_walk():\n",
    "    n = 100\n",
    "#     n = 100\n",
    "    d = 4 # number of random walks\n",
    "#     n=100\n",
    "    walk = np.zeros(shape=(1,d))\n",
    "    for _ in range(n):\n",
    "        walk = np.concatenate((walk, np.random.choice([1,-1], size=(1,d))), axis=0)\n",
    "#     print(np.cumsum(walk))\n",
    "    plt.figure(figsize=(20,15))\n",
    "    plt.plot(range(n+1), np.cumsum(walk, axis=0))\n",
    "random_walk()"
   ]
  },
  {
   "cell_type": "markdown",
   "metadata": {},
   "source": [
    "# Brownian Motion\n",
    "\n"
   ]
  },
  {
   "cell_type": "code",
   "execution_count": null,
   "metadata": {
    "execution": {
     "iopub.execute_input": "2022-09-20T23:50:50.77768Z",
     "iopub.status.busy": "2022-09-20T23:50:50.777143Z",
     "iopub.status.idle": "2022-09-20T23:50:52.221181Z",
     "shell.execute_reply": "2022-09-20T23:50:52.219981Z",
     "shell.execute_reply.started": "2022-09-20T23:50:50.777647Z"
    },
    "trusted": true
   },
   "outputs": [],
   "source": [
    "def brownian_motion(m):\n",
    "    n = 10_000\n",
    "    T = 1\n",
    "    times = np.linspace(0, T, n)\n",
    "    dt = times[1] - times[0]\n",
    "#     print(dt)\n",
    "    dB = np.sqrt(dt) * np.random.normal(size=(n-1, m))#difference of BM \n",
    "    B0 = np.zeros(shape=(1, m))\n",
    "    B = np.concatenate((B0, np.cumsum(dB, axis=0)), axis=0)\n",
    "    plt.figure(figsize=(20,15))\n",
    "    plt.plot(times, B)\n",
    "    return B\n",
    "    \n",
    "brownian_motion(100)"
   ]
  },
  {
   "cell_type": "code",
   "execution_count": null,
   "metadata": {
    "execution": {
     "iopub.execute_input": "2022-09-20T23:50:52.223782Z",
     "iopub.status.busy": "2022-09-20T23:50:52.222755Z",
     "iopub.status.idle": "2022-09-20T23:50:52.698058Z",
     "shell.execute_reply": "2022-09-20T23:50:52.696751Z",
     "shell.execute_reply.started": "2022-09-20T23:50:52.223736Z"
    },
    "trusted": true
   },
   "outputs": [],
   "source": [
    "def quadratic_variation(B):\n",
    "    '''Getting QV for a given BM B'''\n",
    "    n = 10_000\n",
    "    T = 1\n",
    "    times = np.linspace(0, T, n)\n",
    "    plt.plot(times, np.cumsum(np.power(np.diff(B,axis=0,prepend=0), 2), axis=0))\n",
    "    plt.axhline(1)\n",
    "quadratic_variation(brownian_motion(9))"
   ]
  },
  {
   "cell_type": "code",
   "execution_count": null,
   "metadata": {
    "execution": {
     "iopub.execute_input": "2022-09-20T23:50:52.700885Z",
     "iopub.status.busy": "2022-09-20T23:50:52.700142Z",
     "iopub.status.idle": "2022-09-20T23:50:53.279064Z",
     "shell.execute_reply": "2022-09-20T23:50:53.278189Z",
     "shell.execute_reply.started": "2022-09-20T23:50:52.70084Z"
    },
    "trusted": true
   },
   "outputs": [],
   "source": [
    "mu = 1\n",
    "n = 50\n",
    "dt = 0.1\n",
    "x0 = 100\n",
    "np.random.seed(1)\n",
    "\n",
    "sigma = np.arange(0.8, 2, 0.2)\n",
    "\n",
    "x = np.exp(\n",
    "    (mu - sigma ** 2 / 2) * dt\n",
    "    + sigma * np.random.normal(0, np.sqrt(dt), size=(len(sigma), n)).T\n",
    ")\n",
    "x = np.vstack([np.ones(len(sigma)), x])\n",
    "x = x0 * x.cumprod(axis=0)\n",
    "\n",
    "plt.plot(x)\n",
    "plt.legend(np.round(sigma, 2))\n",
    "plt.xlabel(\"$t$\")\n",
    "plt.ylabel(\"$x$\")\n",
    "plt.title(\n",
    "    \"Realizations of Geometric Brownian Motion with different variances\\n $\\mu=1$\"\n",
    ")"
   ]
  },
  {
   "cell_type": "markdown",
   "metadata": {},
   "source": [
    "# Call and put option values\n",
    "Proposition 5.6 (Sean Dineen) : \n",
    "1. r - interest rate\n",
    "2. S, k - Stock value at time 0, Strike price at time T\n",
    "3. Su , Sd are Stock value at time T; $0< d<1<e^{rT}<u$.\n",
    "Then we calculate,\n",
    "1. Risk neutral probability $p =\\frac{e^{rT}-d}{u-d}$\n",
    "2. Arbitrage-free price of Call option is $C_T=\\frac{Su-k}{u-d}*(1-e^{-rT}*d)$\n",
    "3. The seller's portfolio for hedging the call option consists of $\\Delta=\\frac{Su-k}{Su-Sd}$ shares and borrowings of $B=de^{-rT}*\\left(\\frac{Su-k}{u-d}\\right)$ bonds.\n",
    "4.  Arbitrage-free price of Put option is $P_T=\\frac{Sd-k}{u-d}*(1-e^{-rT}*u)$"
   ]
  },
  {
   "cell_type": "code",
   "execution_count": null,
   "metadata": {
    "execution": {
     "iopub.execute_input": "2022-09-21T00:07:51.792292Z",
     "iopub.status.busy": "2022-09-21T00:07:51.791809Z",
     "iopub.status.idle": "2022-09-21T00:07:51.800024Z",
     "shell.execute_reply": "2022-09-21T00:07:51.79917Z",
     "shell.execute_reply.started": "2022-09-21T00:07:51.792253Z"
    },
    "trusted": true
   },
   "outputs": [],
   "source": [
    "def call_put_value(r,S,k,u,d,T):\n",
    "    p = (np.exp(r*T) - d)/(u - d)\n",
    "    C_T = (S*u - k)*(1 - np.exp(-r*T) * d) / (u - d)\n",
    "    delta = (S*u - k) / (S*u - S*d)\n",
    "    B = d*np.exp(-r*T)*(S*u - k)/(u - d)\n",
    "    P_T = (S*d - k)*(1 - np.exp(-r*T) * u) / (u - d)\n",
    "    return p, delta, B, C_T, P_T"
   ]
  },
  {
   "cell_type": "code",
   "execution_count": null,
   "metadata": {
    "execution": {
     "iopub.execute_input": "2022-09-21T00:18:31.184226Z",
     "iopub.status.busy": "2022-09-21T00:18:31.183732Z",
     "iopub.status.idle": "2022-09-21T00:18:31.193224Z",
     "shell.execute_reply": "2022-09-21T00:18:31.191852Z",
     "shell.execute_reply.started": "2022-09-21T00:18:31.184187Z"
    },
    "trusted": true
   },
   "outputs": [],
   "source": [
    "call_put_value(12/100, 20, 22, 24/20, 19/20, .25)"
   ]
  },
  {
   "cell_type": "code",
   "execution_count": null,
   "metadata": {
    "execution": {
     "iopub.execute_input": "2022-09-21T00:20:14.209519Z",
     "iopub.status.busy": "2022-09-21T00:20:14.209034Z",
     "iopub.status.idle": "2022-09-21T00:20:14.218471Z",
     "shell.execute_reply": "2022-09-21T00:20:14.217204Z",
     "shell.execute_reply.started": "2022-09-21T00:20:14.209473Z"
    },
    "trusted": true
   },
   "outputs": [],
   "source": [
    "call_put_value(12/100, 24, 22, 26/24, 21/24, .25)"
   ]
  },
  {
   "cell_type": "code",
   "execution_count": null,
   "metadata": {
    "execution": {
     "iopub.execute_input": "2022-09-21T00:21:06.534223Z",
     "iopub.status.busy": "2022-09-21T00:21:06.533781Z",
     "iopub.status.idle": "2022-09-21T00:21:06.541387Z",
     "shell.execute_reply": "2022-09-21T00:21:06.540389Z",
     "shell.execute_reply.started": "2022-09-21T00:21:06.534191Z"
    },
    "trusted": true
   },
   "outputs": [],
   "source": [
    "call_put_value(12/100, 19, 22, 21/19, 17/19, .25)"
   ]
  },
  {
   "cell_type": "code",
   "execution_count": null,
   "metadata": {},
   "outputs": [],
   "source": []
  }
 ],
 "metadata": {
  "kaggle": {
   "accelerator": "none",
   "dataSources": [],
   "dockerImageVersionId": 30213,
   "isGpuEnabled": false,
   "isInternetEnabled": false,
   "language": "python",
   "sourceType": "notebook"
  },
  "kernelspec": {
   "display_name": "Python 3",
   "language": "python",
   "name": "python3"
  },
  "language_info": {
   "codemirror_mode": {
    "name": "ipython",
    "version": 3
   },
   "file_extension": ".py",
   "mimetype": "text/x-python",
   "name": "python",
   "nbconvert_exporter": "python",
   "pygments_lexer": "ipython3",
   "version": "3.12.0"
  }
 },
 "nbformat": 4,
 "nbformat_minor": 4
}
